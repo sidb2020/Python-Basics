{
  "nbformat": 4,
  "nbformat_minor": 0,
  "metadata": {
    "colab": {
      "provenance": []
    },
    "kernelspec": {
      "name": "python3",
      "display_name": "Python 3"
    },
    "language_info": {
      "name": "python"
    }
  },
  "cells": [
    {
      "cell_type": "code",
      "execution_count": null,
      "metadata": {
        "id": "RL0si27IAF8X"
      },
      "outputs": [],
      "source": []
    },
    {
      "cell_type": "markdown",
      "source": [
        "#Python Basics Theoretical Questions\n",
        "\n",
        "1. What is Python and why is it popular ?\n",
        "- Python is programming language that is easy to understnad and write, making it popular choice among developers and programmers. Python is a set of instructions that we give in the form of a program to our computer to perform any specific task. People use Python for competitive programming, web development, and creating software.\n",
        "  - Advantages :\n",
        "      - Compatible with various programming paradigms, such as procedural, object oriented, and functional programming.\n",
        "      - Extensive standard library which helps in reducing the lines of code.\n",
        "      - Third party packages for various domains.\n",
        "      - Versatility.\n",
        "      - Improves productivity.\n",
        "\n",
        "  - Python is most demanding and popular due to it's following features :\n",
        "    - Easy to read and understand\n",
        "    - Interpreted language\n",
        "    - Object-oriented programming language\n",
        "    - Free and open-source\n",
        "    - Versatile and Extensible\n",
        "    - Multi-platform\n",
        "    - Hundreds of libraries and frameworks\n",
        "    - Flexible, supports GUI\n",
        "    - Dynamically typed\n",
        "    - Huge and active community\n",
        "\n",
        "2. What is an interpreter in Python ?\n",
        "- Interpreters are the computer program that will convert the source code or an high level language into intermediate code (machine level language). It is also called translator in programming terminology. Interpreters executes each line of statements slowly. This process is called Interpretation. For example Python is an interpreted language, PHP, Ruby, and JavaScript.\n",
        "\n",
        "Python interpreter is written in C programming language as we all know that C is considered as mother of all programming languages, Python interpreter called \"CPython\".\n",
        "\n",
        "Initially in source code analysis, Python get source and check for some Indentation rule and check for errors. if there are any errors Python stops its execution and make to modify to prevent errors. This process is called Lexical analysis in python which states that dividing the source code into list of individual tokens.\n",
        "\n",
        "3. What are pre-defined keywords in Python ?\n",
        "- Keywords are pre-defined words that holds a special meaning and have specific purpose. Thses reserved words in Python, cannot be used as identifiers, such as varibles names, functions names, etc.\n",
        "  - Types of keywords :  \n",
        "      - Value Keywords\t- True, False, None\n",
        "      - Operator Keywords -\tand, or, not, in, is\n",
        "      - Control Flow Keywords\t- if, else, elif, for, while, break, continue, pass, try, except, finally, raise, assert\n",
        "      - Function and Class\t- def, return, lambda, yield, class\n",
        "      - Context Management\t- with, as\n",
        "      - Import and Module -\timport, from, as\n",
        "      - Scope and Namespace -\tglobal, nonlocal\n",
        "      - Async Programming\t- async, await\n",
        "\n",
        "4. Can keywords be used as variable names ?\n",
        "- Variables and keywords are the building blocks of Python programming.  \n",
        "  - Python keyword refers to unique programming terms which intend to perform some action. Further, there are 33 such keywords in Python where each serves a unique purpose. In other words, all of them build the vocabulary of Python. Moreover, they represent the syntax and structure of a Python program. Consequently, as all of them are reserved, we cannot use their names to define variables, classes or functions.\n",
        "\n",
        "  - A variable represents an entity whose value can change as and when required. Theoretically, it refers to a memory location that holds the actual value. Moreover, through querying the entity, we can retrieve the value from our code.\n",
        "\n",
        "However, it needs assigning a label to that memory location so that we can reference it. Thus, we refer to it as a variable in the programming terms. We will now take a look at some of the major facts about variables in Python which will help you to make use of them efficiently.\n",
        "\n",
        "For Example:\n",
        "\n",
        "test = 20\n",
        "\n",
        "The above expression will result in the following actions:\n",
        "\n",
        "    - Formation of an object to represent the value 20.\n",
        "    - If the variable (test) does not exist, then it will be formed\n",
        "    - Association of the variable with the object, so that it can refer to the value.\n",
        "\n",
        "Hence, We cannot use a keyword as a variable name. They are used to define the syntax and structure of the Python language.\n",
        "\n",
        "5. What is mutability in Python ?\n",
        "- In Python, objects can be either changeable or unchangeable. Objects whose state or value can be changed after they are created are called mutable objects. Mutability affects how objects are stored and manipulated in memory, impacting performance, memory usage, and concurrency in python programs.\n",
        "\n",
        "  - Objects of built-in type that are mutable are:\n",
        "\n",
        "    - Lists\n",
        "    - Sets\n",
        "    - Dictionaries\n",
        "\n",
        "  - Objects of built-in type that are immutable are:\n",
        "\n",
        "    - Numbers (Integer, Rational, Float, Decimal, Complex & Booleans)\n",
        "    - Strings\n",
        "    - Tuples\n",
        "    - Frozen Sets\n",
        "\n",
        "6. Why are lists mutable, but tuples are immutable ?\n",
        "-  The key distinction between lists and tuples in Python comes down to their design goals and intended use cases.\n",
        "\n",
        "  - Lists (Mutable):\n",
        "    \n",
        "  Lists are designed to be mutable, meaning you can modify their contents (add, remove, or change elements) after they are created. This makes them flexible and suitable for situations where the data might need to change during the program's execution. Lists are often used when you need to store collections of items that could change over time (e.g., adding/removing elements).\n",
        "    \n",
        "  - Tuples (Immutable):\n",
        "    \n",
        "  Tuples, on the other hand, are immutable, meaning once created, their contents cannot be changed (you can't add, remove, or modify elements). This immutability makes tuples suitable for use cases where data should remain constant and reliable, such as representing fixed collections of items or using tuples as keys in dictionaries (because the elements cannot change, ensuring stability as a key).\n",
        "\n",
        "  - The reasons for these differences:\n",
        "    - Performance\n",
        "    - Safety and Integrity\n",
        "\n",
        "In summary, lists are mutable because they’re designed to handle dynamic, changing data, while tuples are immutable because they’re meant to represent fixed, constant collections that can be used more safely in certain contexts.\n",
        "\n",
        "7. What is the difference between \"==\" and \"is\" operator in Python ?\n",
        "- In Python, both == and is are used for comparison, but they serve different purposes:\n",
        "\n",
        "  - == (Equality Operator)\n",
        "    - The == operator checks if the values of two objects are equal.\n",
        "    - It compares the contents of the objects (i.e., their data).\n",
        "    - This operator works for all types of objects, like numbers, strings, lists, etc.\n",
        "\n",
        "  - is (Identity Operator)\n",
        "    - The is operator checks if two references point to the same object in memory (i.e., whether they are the same instance).\n",
        "    - It compares the identity of the objects, not their values.\n",
        "    - This operator works by comparing the memory addresses of the objects.\n",
        "\n",
        "8. What are logical operators in Python ?\n",
        "- In Python, logical operators are used to combine conditional statements or expressions and return a boolean result (True or False). These operators help in evaluating multiple conditions together.\n",
        "There are three main logical operators in Python:\n",
        "\n",
        "    - and\n",
        "      - The \"and\" operator returns True if both conditions/expressions are True.\n",
        "      - If either of the conditions is False, the result will be False.\n",
        "\n",
        "    - or\n",
        "      - The \"or\" operator returns True if at least one condition/statement is True.\n",
        "      - If both conditions are False, the result will be False.\n",
        "\n",
        "    - not\n",
        "      - The \"not\" operator is a negation operator. It returns True if the condition/statement is False, and False if the condition/statement is True.\n",
        "      - It's used to invert the truth value of the expression.\n",
        "\n",
        "9. What is type casting in Python ?\n",
        "- The process of changing one data type to another of a value/object is called type casting or type conversion, in Python. Python provides built-in functions for type casting, such as:\n",
        "  - int()\n",
        "  - float()\n",
        "  - str()\n",
        "  - list()\n",
        "  - tuple()\n",
        "  - dict(), etc\n",
        "\n",
        "Type casting is often necessary for performing:\n",
        "  - Arithmatic operations\n",
        "  - Data manipulationa\n",
        "  - Input/output operations\n",
        "\n",
        "Types of Type casting:\n",
        "  - Implicit\n",
        "  - Explicit\n",
        "\n",
        "10. What is the difference between implicit and explicit type casting ?\n",
        "- There are two main types of type casting:\n",
        "\n",
        "  - Implicit Type Casting (Automatic Type Conversion)\n",
        "    - In implicit type casting, Python automatically converts one data type to another without any explicit command from the programmer.\n",
        "    - This typically happens when a smaller data type (like an integer) is assigned to a larger data type (like a float), and Python handles it behind the scenes.\n",
        "    - Implicit casting occurs when the conversion doesn’t result in any loss of data or precision.\n",
        "\n",
        "  - Explicit Type Casting (Manual Type Conversion)\n",
        "    - In explicit type casting, the programmer manually converts one data type to another using built-in functions. This is necessary when Python cannot automatically convert the data type (like converting a string to an integer).\n",
        "    - You use functions like int(), float(), str(), etc., to explicitly cast the types.\n",
        "\n",
        "11. What is the purpose of conditional statements in Python ?\n",
        "- Conditional statements in Python are used to execute code based on the evaluation of one or more conditions. Python supports conditional statements to control the flow of execution, such as:\n",
        "  - if\n",
        "  - if-else\n",
        "  - if-elif-else\n",
        "  - nested if-else\n",
        "\n",
        "Conditional statements can be nested to handle multiple conditions and control different branches of execution based on the outcome of logical expressions.The purpose of conditional statements in Python is to allow your program to make decisions and execute certain blocks of code based on whether a specific condition (or set of conditions) is True or False. This enables your program to respond dynamically to different situations, creating a more flexible and interactive flow of execution.\n",
        "\n",
        "  - Key Benefits of Conditional Statements:\n",
        "    - Decision Making: Conditional statements enable your program to choose between different actions based on certain conditions.\n",
        "    - Control Flow: They control the flow of execution in your program, allowing you to define which parts of the code should run in specific situations.\n",
        "    - Flexibility: They allow your program to handle different inputs, perform different actions based on data, or react to user interaction in various ways.\n",
        "\n",
        "12. How does the elif statement work ?\n",
        "- The elif (short for \"else if\") statement in Python is used to check multiple conditions after an initial if statement. It allows you to evaluate multiple expressions sequentially and execute a block of code for the first condition that evaluates to True. If none of the if or elif conditions are True, the else block (if provided) will be executed.\n",
        "\n",
        "How it works:\n",
        "  - The program starts by evaluating the \"if\" condition.\n",
        "  - If the \"if\" condition is True, its corresponding block of code is executed, and the rest of the \"elif\" or \"else\" blocks are skipped.\n",
        "  - If the \"if\" condition is False, Python moves to the next \"elif\" condition and checks it. If that is True, the corresponding block is executed.\n",
        "  - If none of the \"if\" or \"elif\" conditions are True, and if there is an \"else\" block, that block of code will execute as the final fallback.\n",
        "\n",
        "For Example:\n"
      ],
      "metadata": {
        "id": "mX3f0Q9DAOEm"
      }
    },
    {
      "cell_type": "code",
      "source": [
        "age = int(input(\"Enter your age: \"))\n",
        "\n",
        "if age <= 12:\n",
        "    print(\"You are a kid.\")\n",
        "elif age <= 19:\n",
        "    print(\"You are a teen.\")\n",
        "elif age <= 35:\n",
        "    print(\"You are in your prime.\")\n",
        "elif age <= 60:\n",
        "    print(\"You are an adult.\")\n",
        "else:\n",
        "    print(\"You are a senior citizen.\")"
      ],
      "metadata": {
        "colab": {
          "base_uri": "https://localhost:8080/",
          "height": 0
        },
        "id": "YuPhKYs-VVmf",
        "outputId": "dcf6237a-af3d-400e-95b0-6057c3736ef5"
      },
      "execution_count": 2,
      "outputs": [
        {
          "output_type": "stream",
          "name": "stdout",
          "text": [
            "Enter your age: 34\n",
            "You are in your prime.\n"
          ]
        }
      ]
    },
    {
      "cell_type": "markdown",
      "source": [
        "13. What is the difference between for and while loops ?\n",
        "- In Python, both for and while loops are used to repeatedly execute a block of code, but they have different ways of determining when to stop.\n",
        "\n",
        "  - for loop\n",
        "    - The \"for\" loop is used when you know exactly how many times you want to iterate over a sequence (like a list, tuple, string, or range).\n",
        "    - It is typically used to iterate over a collection of items or a sequence, such as numbers in a range or elements in a list.\n",
        "    - It automatically iterates over the items in the sequence and stops when all items have been processed.\n",
        "\n",
        "When to use for loop:\n",
        "\n",
        "- When you know in advance the number of iterations (like iterating over a fixed number of items, or a range of numbers).\n",
        "- When you are iterating through a sequence or iterable (e.g., list, tuple, string).\n",
        "\n",
        "  - while loop\n",
        "    - The \"while\" loop is used when you want to continue looping as long as a condition is True.\n",
        "    - It checks the condition before each iteration, and if the condition is True, it executes the code block inside the loop.\n",
        "    - The loop continues until the condition evaluates to False.\n",
        "\n",
        "When to use while loop:\n",
        "\n",
        "- When the number of iterations is not fixed and depends on a condition that might change during execution.\n",
        "- When you want to loop until a specific condition is met (e.g., waiting for user input or checking if some value reaches a certain state).\n",
        "\n",
        "14. Describe a scenario where a while loop is more suitable than afor loop.\n",
        "- A while loop is more suitable in scenarios where the number of iterations is not known in advance, or when you want to keep repeating something until a specific condition is met.\n",
        "\n",
        "  - Scenario: User Input Validation\n",
        "\n",
        "Let’s say you're building a program that asks the user to input a valid password, and the program should keep asking until the user provides a valid one. The number of attempts is not fixed, as it depends on when the user enters the correct password.\n",
        "\n",
        "In this case, a while loop is more suitable because the loop should keep running as long as the condition (valid password) is not met.\n",
        "\n",
        "- Why not use a for loop?\n",
        "\n",
        "A for loop is typically used when you know how many iterations you need. In this case, since you don't know how many attempts the user will need to make, a while loop is more appropriate. Using a for loop would require setting a fixed number of attempts, which would not allow the loop to run indefinitely until the condition is satisfied.\n",
        "\n"
      ],
      "metadata": {
        "id": "gGgCaH2_VfZG"
      }
    },
    {
      "cell_type": "code",
      "source": [
        "#Practical Questions\n",
        "#1 Write a Python program to print \"Hello, World!\"\n",
        "print(\"Hello, World!\")"
      ],
      "metadata": {
        "colab": {
          "base_uri": "https://localhost:8080/"
        },
        "id": "M1ZYtEc8a9K1",
        "outputId": "60241d15-bbde-41dd-e442-f6bf5364e075"
      },
      "execution_count": 1,
      "outputs": [
        {
          "output_type": "stream",
          "name": "stdout",
          "text": [
            "Hello, World!\n"
          ]
        }
      ]
    },
    {
      "cell_type": "code",
      "source": [
        "#2 Write a python program that displays your name and age.\n",
        "name = \"Siddhartha Banerjee\"\n",
        "age = 34\n",
        "print(\"Name:\", name)\n",
        "print(\"Age:\", age)"
      ],
      "metadata": {
        "colab": {
          "base_uri": "https://localhost:8080/"
        },
        "id": "ycGuYMIm73wc",
        "outputId": "c7a7a0b1-5df6-4c26-ed2e-c852e0bb22cb"
      },
      "execution_count": 2,
      "outputs": [
        {
          "output_type": "stream",
          "name": "stdout",
          "text": [
            "Name: Siddhartha Banerjee\n",
            "Age: 34\n"
          ]
        }
      ]
    },
    {
      "cell_type": "code",
      "source": [
        "#3 Write a code to print all the pre-defined keywords in Python using the keyword library.\n",
        "import keyword\n",
        "print(\"Python Keywords:\", keyword.kwlist)"
      ],
      "metadata": {
        "colab": {
          "base_uri": "https://localhost:8080/"
        },
        "id": "styJPo3q71gM",
        "outputId": "2e3803c1-e6e7-40f3-b7bb-79f23d22baf9"
      },
      "execution_count": 4,
      "outputs": [
        {
          "output_type": "stream",
          "name": "stdout",
          "text": [
            "Python Keywords: ['False', 'None', 'True', 'and', 'as', 'assert', 'async', 'await', 'break', 'class', 'continue', 'def', 'del', 'elif', 'else', 'except', 'finally', 'for', 'from', 'global', 'if', 'import', 'in', 'is', 'lambda', 'nonlocal', 'not', 'or', 'pass', 'raise', 'return', 'try', 'while', 'with', 'yield']\n"
          ]
        }
      ]
    },
    {
      "cell_type": "code",
      "source": [
        "#4 Write a program that checks if a given word is a Python keyword.\n",
        "import keyword\n",
        "word = input(\"Enter a word: \")\n",
        "print(keyword.iskeyword(word))"
      ],
      "metadata": {
        "colab": {
          "base_uri": "https://localhost:8080/"
        },
        "id": "nLxF7FBo9akF",
        "outputId": "be9aa356-4662-4cac-9920-68e78cc181ec"
      },
      "execution_count": 6,
      "outputs": [
        {
          "output_type": "stream",
          "name": "stdout",
          "text": [
            "Enter a word: sid\n",
            "False\n"
          ]
        }
      ]
    },
    {
      "cell_type": "code",
      "source": [
        "#5 Create a list and tuple in Python, and demonstrate how attempting to change an element works differently for each.\n",
        "my_list = [1, 2, 3, 4]\n",
        "\n",
        "my_tuple = (1, 2, 3, 4)\n",
        "\n",
        "print(\"Original list:\", my_list)\n",
        "my_list[-1] = 20\n",
        "print(\"Modified list:\", my_list)\n",
        "\n",
        "print(\"Original tuple:\", my_tuple)\n",
        "try:\n",
        "    my_tuple[-4] = 20\n",
        "except TypeError as e:\n",
        "    print(\"Error while modifying tuple:\", e)"
      ],
      "metadata": {
        "colab": {
          "base_uri": "https://localhost:8080/"
        },
        "id": "rzyl9bti-7T7",
        "outputId": "808381bc-dd25-4b6c-f64b-fd2c8dda5d05"
      },
      "execution_count": 7,
      "outputs": [
        {
          "output_type": "stream",
          "name": "stdout",
          "text": [
            "Original list: [1, 2, 3, 4]\n",
            "Modified list: [1, 2, 3, 20]\n",
            "Original tuple: (1, 2, 3, 4)\n",
            "Error while modifying tuple: 'tuple' object does not support item assignment\n"
          ]
        }
      ]
    },
    {
      "cell_type": "code",
      "source": [
        "#6 Write a function to demonstrate the behavior of mutable and immutable argument.\n",
        "def demo_mutable_immutable():\n",
        "    x = 10\n",
        "    print(\"Before modification, x:\", x)\n",
        "\n",
        "    def modify_immutable(x):\n",
        "        x = 20\n",
        "        print(\"Inside modify_immutable, x:\", x)\n",
        "\n",
        "    modify_immutable(x)\n",
        "    print(\"After modify_immutable, x:\", x)\n",
        "\n",
        "\n",
        "    my_list = [1, 2, 3]\n",
        "    print(\"Before modification, my_list:\", my_list)\n",
        "\n",
        "    def modify_mutable(lst):\n",
        "        lst.append(4)\n",
        "        print(\"Inside modify_mutable, my_list:\", lst)\n",
        "\n",
        "    modify_mutable(my_list)\n",
        "    print(\"After modify_mutable, my_list:\", my_list)\n",
        "\n",
        "demo_mutable_immutable()"
      ],
      "metadata": {
        "colab": {
          "base_uri": "https://localhost:8080/"
        },
        "id": "5zhsfZ8JAyiK",
        "outputId": "dd53c651-ba0e-41a6-c78e-caab95f55d9a"
      },
      "execution_count": 12,
      "outputs": [
        {
          "output_type": "stream",
          "name": "stdout",
          "text": [
            "Before modification, x: 10\n",
            "Inside modify_immutable, x: 20\n",
            "After modify_immutable, x: 10\n",
            "Before modification, my_list: [1, 2, 3]\n",
            "Inside modify_mutable, my_list: [1, 2, 3, 4]\n",
            "After modify_mutable, my_list: [1, 2, 3, 4]\n"
          ]
        }
      ]
    },
    {
      "cell_type": "code",
      "source": [
        "#7 Write a program that performs basic arithmatic operations on two on two user input numbers.\n",
        "a = int(input(\"Enter a number:\"))\n",
        "b = int(input(\"Enter another number:\"))\n",
        "\n",
        "print(\"Sum:\", a+b)\n",
        "print(\"Diff.:\", a-b)\n",
        "print(\"Product:\", a*b)\n",
        "print(\"Div.:\", a/b)"
      ],
      "metadata": {
        "colab": {
          "base_uri": "https://localhost:8080/"
        },
        "id": "FU7WQlA2CGRO",
        "outputId": "44516192-a0e4-49d8-ae1e-fda6dee3c30e"
      },
      "execution_count": 14,
      "outputs": [
        {
          "output_type": "stream",
          "name": "stdout",
          "text": [
            "Enter a number:8\n",
            "Enter another number:6\n",
            "Sum: 14\n",
            "Diff.: 2\n",
            "Product: 48\n",
            "Div.: 1.3333333333333333\n"
          ]
        }
      ]
    },
    {
      "cell_type": "code",
      "source": [
        "#8 Write a program to demonstrate the use of logical operator.\n",
        "a = 10\n",
        "b = 5\n",
        "\n",
        "print(a > b and b < a)\n",
        "\n",
        "print(a < b or b < a)\n",
        "\n",
        "print(not a < b)"
      ],
      "metadata": {
        "colab": {
          "base_uri": "https://localhost:8080/"
        },
        "id": "bSkdnRvyErYs",
        "outputId": "884a138f-bb5a-460c-ecde-c55d5853ae4d"
      },
      "execution_count": 35,
      "outputs": [
        {
          "output_type": "stream",
          "name": "stdout",
          "text": [
            "True\n",
            "True\n",
            "True\n"
          ]
        }
      ]
    },
    {
      "cell_type": "code",
      "source": [
        "#9 Write a Python program to convert user input from string to integer, float, and boolean types.\n",
        "def convert_input():\n",
        "    user_input = input(\"Enter a value: \")\n",
        "\n",
        "    try:\n",
        "        int_value = int(user_input)\n",
        "        print(\"Converted to integer:\", int_value)\n",
        "    except ValueError:\n",
        "        print(\"Not a valid integer.\")\n",
        "\n",
        "    try:\n",
        "        float_value = float(user_input)\n",
        "        print(\"Converted to float:\", float_value)\n",
        "    except ValueError:\n",
        "        print(\"Not a valid float.\")\n",
        "\n",
        "    bool_value = bool(user_input)\n",
        "    print(\"Converted to boolean:\", bool_value)\n",
        "\n",
        "convert_input()"
      ],
      "metadata": {
        "colab": {
          "base_uri": "https://localhost:8080/"
        },
        "id": "HayjcycHFw9L",
        "outputId": "2409daff-d712-47cc-94f6-668201faed70"
      },
      "execution_count": 22,
      "outputs": [
        {
          "output_type": "stream",
          "name": "stdout",
          "text": [
            "Enter a value: sid\n",
            "Not a valid integer.\n",
            "Not a valid float.\n",
            "Converted to boolean: True\n"
          ]
        }
      ]
    },
    {
      "cell_type": "code",
      "source": [
        "#10 Write a code to demonstrate type casting with list elements.\n",
        "def type_casting_demo():\n",
        "    my_list = [\"123\", \"45.67\", \"True\"]\n",
        "\n",
        "    int_list = [int(i) if i.isdigit() else 0 for i in my_list]\n",
        "    print(\"List after converting to integers:\", int_list)\n",
        "\n",
        "    float_list = [float(i) if i.replace('.', '', 1).isdigit() else 0.0 for i in my_list]\n",
        "    print(\"List after converting to floats:\", float_list)\n",
        "\n",
        "    bool_list = [i.lower() == \"true\" for i in my_list]\n",
        "    print(\"List after converting to booleans:\", bool_list)\n",
        "\n",
        "type_casting_demo()"
      ],
      "metadata": {
        "colab": {
          "base_uri": "https://localhost:8080/"
        },
        "id": "TRYMcPxCGqbl",
        "outputId": "59f19621-0f88-4c20-fa91-b2e16e63d383"
      },
      "execution_count": 27,
      "outputs": [
        {
          "output_type": "stream",
          "name": "stdout",
          "text": [
            "List after converting to integers: [123, 0, 0]\n",
            "List after converting to floats: [123.0, 45.67, 0.0]\n",
            "List after converting to booleans: [False, False, True]\n"
          ]
        }
      ]
    },
    {
      "cell_type": "code",
      "source": [
        "#11 Write a program that checks if a number is positive, negative, or zero.\n",
        "num = int(input(\"Enter a number: \"))\n",
        "\n",
        "if num > 0:\n",
        "    print(\"The number is positive.\")\n",
        "elif num < 0:\n",
        "    print(\"The number is negative.\")\n",
        "else:\n",
        "    print(\"The number is zero.\")"
      ],
      "metadata": {
        "colab": {
          "base_uri": "https://localhost:8080/"
        },
        "id": "z9K_yRhiITuJ",
        "outputId": "6a45650d-0853-4172-d57b-07dc3841fa15"
      },
      "execution_count": 34,
      "outputs": [
        {
          "output_type": "stream",
          "name": "stdout",
          "text": [
            "Enter a number: -6\n",
            "The number is negative.\n"
          ]
        }
      ]
    },
    {
      "cell_type": "code",
      "source": [
        "#12 Write a for loop to print number from 1 to 10\n",
        "for i in range(1, 11):\n",
        "    print(i)"
      ],
      "metadata": {
        "colab": {
          "base_uri": "https://localhost:8080/"
        },
        "id": "H-DH8xXYLFqi",
        "outputId": "6ae8f9a4-b0d4-4201-a89a-5012ddd783e8"
      },
      "execution_count": 37,
      "outputs": [
        {
          "output_type": "stream",
          "name": "stdout",
          "text": [
            "1\n",
            "2\n",
            "3\n",
            "4\n",
            "5\n",
            "6\n",
            "7\n",
            "8\n",
            "9\n",
            "10\n"
          ]
        }
      ]
    },
    {
      "cell_type": "code",
      "source": [
        "#13 Write a python program to fin the sum of all even numbers between 1 and 50.\n",
        "sum = 0\n",
        "for i in range(1, 51):\n",
        "    if (i%2==0):\n",
        "        sum += i\n",
        "    else:\n",
        "        continue\n",
        "\n",
        "print(\"Sum of all even numbers:\", sum)"
      ],
      "metadata": {
        "colab": {
          "base_uri": "https://localhost:8080/"
        },
        "id": "CK48cEsmNc7u",
        "outputId": "0be3cfc8-964b-4ae6-f376-f31e9417747a"
      },
      "execution_count": 51,
      "outputs": [
        {
          "output_type": "stream",
          "name": "stdout",
          "text": [
            "Sum of all even numbers: 650\n"
          ]
        }
      ]
    },
    {
      "cell_type": "code",
      "source": [
        "#14 Write a program to reverse a string using a while loop.\n",
        "s = input(\"Enter a string: \")\n",
        "reversed_str = \"\"\n",
        "i = len(s) - 1\n",
        "\n",
        "while i >= 0:\n",
        "    reversed_str += s[i]\n",
        "    i -= 1\n",
        "\n",
        "print(\"Reversed string:\", reversed_str)"
      ],
      "metadata": {
        "colab": {
          "base_uri": "https://localhost:8080/"
        },
        "id": "ZfhTUq1YPrLi",
        "outputId": "ccb40c6c-c836-48db-9367-d78420cfd1de"
      },
      "execution_count": 52,
      "outputs": [
        {
          "output_type": "stream",
          "name": "stdout",
          "text": [
            "Enter a string: monochrome\n",
            "Reversed string: emorhconom\n"
          ]
        }
      ]
    },
    {
      "cell_type": "code",
      "source": [
        "#15 Write a Python program to calculate the factorial of a number provided by the user using a while loop.\n",
        "num = int(input(\"Enter a number: \"))\n",
        "factorial = 1\n",
        "\n",
        "while num > 0:\n",
        "    factorial *= num\n",
        "    num -= 1\n",
        "\n",
        "print(\"Factorial is:\", factorial)"
      ],
      "metadata": {
        "colab": {
          "base_uri": "https://localhost:8080/"
        },
        "id": "MS_sidF0SYzW",
        "outputId": "02399a3e-e32a-4fd4-bbb7-4e7053483d80"
      },
      "execution_count": 53,
      "outputs": [
        {
          "output_type": "stream",
          "name": "stdout",
          "text": [
            "Enter a number: 5\n",
            "Factorial is: 120\n"
          ]
        }
      ]
    },
    {
      "cell_type": "code",
      "source": [],
      "metadata": {
        "id": "3q6qm1pJTCQ0"
      },
      "execution_count": null,
      "outputs": []
    }
  ]
}